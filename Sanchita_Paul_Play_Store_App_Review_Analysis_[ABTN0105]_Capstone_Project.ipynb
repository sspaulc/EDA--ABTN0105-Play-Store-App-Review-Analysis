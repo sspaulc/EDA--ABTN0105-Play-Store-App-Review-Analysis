{
  "nbformat": 4,
  "nbformat_minor": 0,
  "metadata": {
    "kernelspec": {
      "display_name": "Python 3",
      "language": "python",
      "name": "python3"
    },
    "language_info": {
      "codemirror_mode": {
        "name": "ipython",
        "version": 3
      },
      "file_extension": ".py",
      "mimetype": "text/x-python",
      "name": "python",
      "nbconvert_exporter": "python",
      "pygments_lexer": "ipython3",
      "version": "3.6.6"
    },
    "colab": {
      "name": "Sanchita_Paul_Play Store App Review Analysis_[ABTN0105] - Capstone Project.ipynb",
      "provenance": [],
      "collapsed_sections": [],
      "include_colab_link": true
    }
  },
  "cells": [
    {
      "cell_type": "markdown",
      "metadata": {
        "id": "view-in-github",
        "colab_type": "text"
      },
      "source": [
        "<a href=\"https://colab.research.google.com/github/sspaulc/EDA--ABTN0105-Play-Store-App-Review-Analysis/blob/main/Sanchita_Paul_Play_Store_App_Review_Analysis_%5BABTN0105%5D_Capstone_Project.ipynb\" target=\"_parent\"><img src=\"https://colab.research.google.com/assets/colab-badge.svg\" alt=\"Open In Colab\"/></a>"
      ]
    },
    {
      "cell_type": "markdown",
      "metadata": {
        "id": "Y06xIdG26kRF"
      },
      "source": [
        "## <b> The Play Store apps data has enormous potential to drive app-making businesses to success. Actionable insights can be drawn for developers to work on and capture the Android market. </b>\n",
        "\n",
        "## <b> Each app (row) has values for catergory, rating, size, and more. Another dataset contains customer reviews of the android apps.</b>\n",
        "\n",
        "## <b> Explore and analyze the data to discover key factors responsible for app engagement and success. </b>"
      ]
    },
    {
      "cell_type": "code",
      "metadata": {
        "id": "dByMsuzT8Tnw"
      },
      "source": [
        "#import packages \r\n",
        "\r\n",
        "import pandas as pd\r\n",
        "import numpy as np\r\n",
        "import matplotlib.pyplot as plt\r\n",
        "%matplotlib inline"
      ],
      "execution_count": 1,
      "outputs": []
    },
    {
      "cell_type": "code",
      "metadata": {
        "colab": {
          "base_uri": "https://localhost:8080/"
        },
        "id": "906-Ej4OWUML",
        "outputId": "b60d569f-41c9-49f6-e798-ebd18f601763"
      },
      "source": [
        "#mount the drive and import csv files into different data frames\r\n",
        "from google.colab import drive \r\n",
        "drive.mount('/content/drive')"
      ],
      "execution_count": 2,
      "outputs": [
        {
          "output_type": "stream",
          "text": [
            "Mounted at /content/drive\n"
          ],
          "name": "stdout"
        }
      ]
    },
    {
      "cell_type": "code",
      "metadata": {
        "id": "B85OZ7riWnJk"
      },
      "source": [
        "playstore_df = pd.read_csv(\"/content/drive/MyDrive/AlmaBetter/Almabetter/Module 1/Week 4/Day 3/Play Store Data.csv\")"
      ],
      "execution_count": 3,
      "outputs": []
    },
    {
      "cell_type": "code",
      "metadata": {
        "id": "1HQDsV7AXK68"
      },
      "source": [
        "user_df=pd.read_csv(\"/content/drive/MyDrive/AlmaBetter/Almabetter/Module 1/Week 4/Day 3/User Reviews.csv\")"
      ],
      "execution_count": 4,
      "outputs": []
    },
    {
      "cell_type": "code",
      "metadata": {
        "colab": {
          "base_uri": "https://localhost:8080/"
        },
        "id": "ateHz4ZWkfto",
        "outputId": "5375f895-f2ce-4649-9224-10ed5c53cdbc"
      },
      "source": [
        "playstore_df.info()"
      ],
      "execution_count": 30,
      "outputs": [
        {
          "output_type": "stream",
          "text": [
            "<class 'pandas.core.frame.DataFrame'>\n",
            "RangeIndex: 10841 entries, 0 to 10840\n",
            "Data columns (total 13 columns):\n",
            " #   Column          Non-Null Count  Dtype  \n",
            "---  ------          --------------  -----  \n",
            " 0   App             10841 non-null  object \n",
            " 1   Category        10841 non-null  object \n",
            " 2   Rating          9367 non-null   float64\n",
            " 3   Reviews         10841 non-null  object \n",
            " 4   Size            10841 non-null  object \n",
            " 5   Installs        10841 non-null  object \n",
            " 6   Type            10840 non-null  object \n",
            " 7   Price           10841 non-null  object \n",
            " 8   Content Rating  10840 non-null  object \n",
            " 9   Genres          10841 non-null  object \n",
            " 10  Last Updated    10841 non-null  object \n",
            " 11  Current Ver     10833 non-null  object \n",
            " 12  Android Ver     10838 non-null  object \n",
            "dtypes: float64(1), object(12)\n",
            "memory usage: 1.1+ MB\n"
          ],
          "name": "stdout"
        }
      ]
    },
    {
      "cell_type": "code",
      "metadata": {
        "id": "6X9zrRODkp95"
      },
      "source": [
        "playstore_df_no_duplicates= playstore_df.drop_duplicates().reset_index()"
      ],
      "execution_count": 87,
      "outputs": []
    },
    {
      "cell_type": "code",
      "metadata": {
        "colab": {
          "base_uri": "https://localhost:8080/"
        },
        "id": "tf72M-qhk1WB",
        "outputId": "50017df2-1e3e-4509-9a0b-1f80eb65371d"
      },
      "source": [
        "playstore_df_no_duplicates.info()"
      ],
      "execution_count": 88,
      "outputs": [
        {
          "output_type": "stream",
          "text": [
            "<class 'pandas.core.frame.DataFrame'>\n",
            "RangeIndex: 10358 entries, 0 to 10357\n",
            "Data columns (total 14 columns):\n",
            " #   Column          Non-Null Count  Dtype  \n",
            "---  ------          --------------  -----  \n",
            " 0   index           10358 non-null  int64  \n",
            " 1   App             10358 non-null  object \n",
            " 2   Category        10358 non-null  object \n",
            " 3   Rating          8893 non-null   float64\n",
            " 4   Reviews         10358 non-null  object \n",
            " 5   Size            10358 non-null  object \n",
            " 6   Installs        10358 non-null  object \n",
            " 7   Type            10357 non-null  object \n",
            " 8   Price           10358 non-null  object \n",
            " 9   Content Rating  10357 non-null  object \n",
            " 10  Genres          10358 non-null  object \n",
            " 11  Last Updated    10358 non-null  object \n",
            " 12  Current Ver     10350 non-null  object \n",
            " 13  Android Ver     10355 non-null  object \n",
            "dtypes: float64(1), int64(1), object(12)\n",
            "memory usage: 1.1+ MB\n"
          ],
          "name": "stdout"
        }
      ]
    },
    {
      "cell_type": "code",
      "metadata": {
        "id": "Rpx-anK3rZMP"
      },
      "source": [
        ""
      ],
      "execution_count": null,
      "outputs": []
    },
    {
      "cell_type": "code",
      "metadata": {
        "id": "78M92jbulXO2"
      },
      "source": [
        "#Convert the string row to integers\r\n",
        "\r\n",
        "def convert_string_integers(installs):\r\n",
        "  '''This function coverts all the string elements to integer in the install column'''\r\n",
        "  str_installs=\"\"\r\n",
        "  installs_list=installs.split(\",\")\r\n",
        "  for item in installs_list:\r\n",
        "    #iterate over the list\r\n",
        "    str_installs=str_installs+ item\r\n",
        "  try:\r\n",
        "    int_installs= int(str_installs[:-1])\r\n",
        "    return int_installs #\r\n",
        "  except ValueError:\r\n",
        "    #For '' strings \r\n",
        "    return 0"
      ],
      "execution_count": 99,
      "outputs": []
    },
    {
      "cell_type": "code",
      "metadata": {
        "id": "iNdjxRLMruxA"
      },
      "source": [
        "\r\n",
        "playstore_df_no_duplicates['Int_Installs']= playstore_df_no_duplicates['Installs'].apply(convert_string_integers)"
      ],
      "execution_count": 104,
      "outputs": []
    },
    {
      "cell_type": "code",
      "metadata": {
        "colab": {
          "base_uri": "https://localhost:8080/"
        },
        "id": "W1oHZ569u8hY",
        "outputId": "4152f801-a676-485f-dd8f-8ccb500f727f"
      },
      "source": [
        "playstore_df_no_duplicates.info()"
      ],
      "execution_count": 105,
      "outputs": [
        {
          "output_type": "stream",
          "text": [
            "<class 'pandas.core.frame.DataFrame'>\n",
            "RangeIndex: 10358 entries, 0 to 10357\n",
            "Data columns (total 15 columns):\n",
            " #   Column          Non-Null Count  Dtype  \n",
            "---  ------          --------------  -----  \n",
            " 0   index           10358 non-null  int64  \n",
            " 1   App             10358 non-null  object \n",
            " 2   Category        10358 non-null  object \n",
            " 3   Rating          8893 non-null   float64\n",
            " 4   Reviews         10358 non-null  object \n",
            " 5   Size            10358 non-null  object \n",
            " 6   Installs        10358 non-null  object \n",
            " 7   Type            10357 non-null  object \n",
            " 8   Price           10358 non-null  object \n",
            " 9   Content Rating  10357 non-null  object \n",
            " 10  Genres          10358 non-null  object \n",
            " 11  Last Updated    10358 non-null  object \n",
            " 12  Current Ver     10350 non-null  object \n",
            " 13  Android Ver     10355 non-null  object \n",
            " 14  Int_Installs    10358 non-null  int64  \n",
            "dtypes: float64(1), int64(2), object(12)\n",
            "memory usage: 1.2+ MB\n"
          ],
          "name": "stdout"
        }
      ]
    },
    {
      "cell_type": "code",
      "metadata": {
        "colab": {
          "base_uri": "https://localhost:8080/",
          "height": 296
        },
        "id": "Gnin3BF8XRJu",
        "outputId": "cc392068-4c01-458d-db61-9678c540eb2c"
      },
      "source": [
        "#Use histogram to check where most of the reviews lie\r\n",
        "\r\n",
        "rating= playstore_df[~playstore_df['Rating'].isna()]['Rating']\r\n",
        "\r\n",
        "plt.hist(rating.values,color= \"red\")\r\n",
        "plt.xlabel('Rating')\r\n",
        "plt.ylabel('Frequency')"
      ],
      "execution_count": 114,
      "outputs": [
        {
          "output_type": "execute_result",
          "data": {
            "text/plain": [
              "Text(0, 0.5, 'Frequency')"
            ]
          },
          "metadata": {
            "tags": []
          },
          "execution_count": 114
        },
        {
          "output_type": "display_data",
          "data": {
            "image/png": "[encoded data removed]",
            "text/plain": [
              "<Figure size 432x288 with 1 Axes>"
            ]
          },
          "metadata": {
            "tags": [],
            "needs_background": "light"
          }
        }
      ]
    },
    {
      "cell_type": "code",
      "metadata": {
        "colab": {
          "base_uri": "https://localhost:8080/",
          "height": 386
        },
        "id": "tWoKGI-1YGN2",
        "outputId": "0ab4d16a-c672-4de3-9be4-b5d1e37d8b1d"
      },
      "source": [
        "sns.displot(playstore_df['Rating'],kde= True )"
      ],
      "execution_count": 17,
      "outputs": [
        {
          "output_type": "execute_result",
          "data": {
            "text/plain": [
              "<seaborn.axisgrid.FacetGrid at 0x7f7cb5de8f50>"
            ]
          },
          "metadata": {
            "tags": []
          },
          "execution_count": 17
        },
        {
          "output_type": "display_data",
          "data": {
            "image/png": "[encoded data removed]",
            "text/plain": [
              "<Figure size 360x360 with 1 Axes>"
            ]
          },
          "metadata": {
            "tags": [],
            "needs_background": "light"
          }
        }
      ]
    },
    {
      "cell_type": "code",
      "metadata": {
        "colab": {
          "base_uri": "https://localhost:8080/"
        },
        "id": "xXOWvINQcn6T",
        "outputId": "098ba95a-d426-45cb-abfb-2d93db6e8fe9"
      },
      "source": [
        "playstore_df_no_duplicates['Rating'].value_counts().head(5)"
      ],
      "execution_count": 116,
      "outputs": [
        {
          "output_type": "execute_result",
          "data": {
            "text/plain": [
              "4.4    1032\n",
              "4.3    1016\n",
              "4.5     977\n",
              "4.2     888\n",
              "4.6     768\n",
              "Name: Rating, dtype: int64"
            ]
          },
          "metadata": {
            "tags": []
          },
          "execution_count": 116
        }
      ]
    },
    {
      "cell_type": "markdown",
      "metadata": {
        "id": "5OJSXdq7x2l8"
      },
      "source": [
        "The maximum number of ratings lie in the range of 4.2 and 4.6."
      ]
    },
    {
      "cell_type": "markdown",
      "metadata": {
        "id": "-igzqKQvyVNP"
      },
      "source": [
        "Question 1: What is the relationship between categories and sentiment?"
      ]
    },
    {
      "cell_type": "code",
      "metadata": {
        "id": "hXcpZJ8oxvuQ"
      },
      "source": [
        ""
      ],
      "execution_count": null,
      "outputs": []
    }
  ]
}